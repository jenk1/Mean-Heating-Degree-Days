{
 "cells": [
  {
   "cell_type": "code",
   "execution_count": 1,
   "metadata": {
    "collapsed": true
   },
   "outputs": [],
   "source": [
    "import pandas as pd\n",
    "import numpy as np\n",
    "import matplotlib.pyplot as plt\n",
    "% matplotlib inline\n",
    "import seaborn as sns"
   ]
  },
  {
   "cell_type": "code",
   "execution_count": 2,
   "metadata": {},
   "outputs": [],
   "source": [
    "import pymc3 as pm"
   ]
  },
  {
   "cell_type": "code",
   "execution_count": 3,
   "metadata": {
    "collapsed": true
   },
   "outputs": [],
   "source": [
    "i = 1982\n",
    "avgMonth = []\n",
    "regYrStart = [0,31,59,90,120,151,181,212,243,273,304,334]\n",
    "regYrEnd = [31,59,90,120,151,181,212,243,273,304,334,365]\n",
    "leapYrStart = [0,31,60,91,121,152,182,213,244,274,305,335]\n",
    "leapYrEnd = [31,60,91,121,152,182,213,244,274,304,334,365]"
   ]
  },
  {
   "cell_type": "code",
   "execution_count": 4,
   "metadata": {
    "collapsed": true
   },
   "outputs": [],
   "source": [
    "x = pd.read_table(\"ftp://ftp.cpc.ncep.noaa.gov/htdocs/degree_days/weighted/daily_data/1981/Population.Heating.txt\", delimiter=\"|\", skiprows=[0,1,2])\n",
    "x = x.set_index('Region')"
   ]
  },
  {
   "cell_type": "code",
   "execution_count": 5,
   "metadata": {
    "collapsed": true
   },
   "outputs": [],
   "source": [
    "for j, k in zip(regYrStart, regYrEnd):\n",
    "            z = x.iloc[9,j:k]\n",
    "            avgMonth.append(z.mean())"
   ]
  },
  {
   "cell_type": "code",
   "execution_count": 6,
   "metadata": {
    "collapsed": true
   },
   "outputs": [],
   "source": [
    "leapYears = [1984, 1988, 1992, 1996, 2000, 2004, 2008, 2012, 2016]\n",
    "while(i < 2018):\n",
    "    y = pd.read_table(\"ftp://ftp.cpc.ncep.noaa.gov/htdocs/degree_days/weighted/daily_data/%d/Population.Heating.txt\" %(i), delimiter=\"|\", skiprows=[0,1,2])\n",
    "    y = y.set_index('Region')\n",
    "    result = pd.concat([x,y], axis=1)\n",
    "    x = result\n",
    "    if(i in leapYears):\n",
    "        for j, k in zip(leapYrStart, leapYrEnd):\n",
    "            z = y.iloc[9,j:k]\n",
    "            avgMonth.append(z.mean()) \n",
    "    else:\n",
    "        for j, k in zip(regYrStart, regYrEnd):\n",
    "            z = y.iloc[9,j:k]\n",
    "            avgMonth.append(z.mean())\n",
    "    i += 1"
   ]
  },
  {
   "cell_type": "code",
   "execution_count": 7,
   "metadata": {},
   "outputs": [
    {
     "name": "stdout",
     "output_type": "stream",
     "text": [
      "[30.967741935483872, 24.035714285714285, 19.193548387096776, 8.2333333333333325, 5.032258064516129, 0.73333333333333328, 0.096774193548387094, 0.12903225806451613, 2.4666666666666668, 10.32258064516129, 16.399999999999999, 26.870967741935484, 33.70967741935484, 26.821428571428573, 19.451612903225808, 13.333333333333334, 3.2580645161290325, 1.6666666666666667, 0.16129032258064516, 0.4838709677419355, 2.6000000000000001, 8.5483870967741939, 17.166666666666668, 22.193548387096776, 27.774193548387096, 24.571428571428573, 18.35483870967742, 13.800000000000001, 5.741935483870968, 1.2333333333333334, 0.12903225806451613, 0.096774193548387094, 2.4333333333333331, 7.645161290322581, 16.800000000000001, 31.548387096774192, 31.580645161290324, 22.689655172413794, 21.741935483870968, 12.1, 5.258064516129032, 0.80000000000000004, 0.096774193548387094, 0.096774193548387094, 3.2999999999999998, 6.833333333333333, 18.517241379310345, 22.333333333333332, 33.645161290322584, 28.214285714285715, 17.258064516129032, 8.5666666666666664, 3.3870967741935485, 1.3999999999999999, 0.0, 0.16129032258064516, 2.8666666666666667, 7.419354838709677, 16.733333333333334, 30.322580645161292, 27.06451612903226, 25.25, 16.870967741935484, 9.5333333333333332, 3.806451612903226, 0.76666666666666672, 0.12903225806451613, 0.58064516129032262, 2.5333333333333332, 8.2258064516129039, 18.333333333333332, 25.29032258064516, 29.29032258064516, 24.892857142857142, 17.967741935483872, 10.233333333333333, 3.4516129032258065, 0.46666666666666667, 0.096774193548387094, 0.38709677419354838, 1.7, 10.483870967741936, 16.266666666666666, 24.677419354838708, 31.93548387096774, 27.172413793103448, 18.677419354838708, 10.966666666666667, 4.129032258064516, 1.3, 0.096774193548387094, 0.19354838709677419, 2.1666666666666665, 10.533333333333333, 16.413793103448278, 26.366666666666667, 24.93548387096774, 29.214285714285715, 18.806451612903224, 11.266666666666667, 5.193548387096774, 0.80000000000000004, 0.0, 0.25806451612903225, 2.6000000000000001, 8.064516129032258, 17.699999999999999, 33.903225806451616, 22.870967741935484, 22.857142857142858, 16.64516129032258, 10.566666666666666, 5.354838709677419, 0.8666666666666667, 0.096774193548387094, 0.096774193548387094, 2.0, 7.903225806451613, 15.1, 25.451612903225808, 29.225806451612904, 22.107142857142858, 17.774193548387096, 9.4000000000000004, 3.5161290322580645, 0.8666666666666667, 0.0, 0.0, 2.9333333333333331, 7.806451612903226, 19.333333333333332, 23.93548387096774, 27.032258064516128, 22.206896551724139, 18.548387096774192, 11.066666666666666, 4.5483870967741939, 1.2666666666666666, 0.29032258064516131, 0.4838709677419355, 2.4666666666666668, 8.9666666666666668, 18.379310344827587, 26.466666666666665, 27.161290322580644, 28.785714285714285, 20.612903225806452, 11.766666666666667, 3.5161290322580645, 1.5, 0.0, 0.16129032258064516, 3.0666666666666669, 9.4838709677419359, 19.366666666666667, 26.29032258064516, 32.41935483870968, 28.428571428571427, 18.483870967741936, 9.6999999999999993, 5.354838709677419, 0.66666666666666663, 0.0, 0.38709677419354838, 1.9333333333333333, 8.387096774193548, 16.0, 23.193548387096776, 26.870967741935484, 26.035714285714285, 17.387096774193548, 12.233333333333333, 5.32258064516129, 1.0333333333333334, 0.096774193548387094, 0.032258064516129031, 2.7000000000000002, 7.225806451612903, 19.600000000000001, 27.774193548387096, 29.93548387096774, 26.137931034482758, 22.387096774193548, 11.699999999999999, 5.387096774193548, 0.83333333333333337, 0.064516129032258063, 0.0, 2.5, 8.5, 20.551724137931036, 24.399999999999999, 29.548387096774192, 23.678571428571427, 17.0, 13.233333333333333, 5.870967741935484, 1.0, 0.096774193548387094, 0.22580645161290322, 1.8999999999999999, 9.1612903225806459, 19.566666666666666, 25.93548387096774, 24.096774193548388, 21.821428571428573, 19.032258064516128, 10.800000000000001, 3.2903225806451615, 1.5333333333333334, 0.0, 0.064516129032258063, 1.1000000000000001, 7.419354838709677, 15.800000000000001, 23.161290322580644, 26.967741935483872, 22.5, 20.06451612903226, 10.533333333333333, 3.935483870967742, 1.0, 0.032258064516129031, 0.064516129032258063, 2.0333333333333332, 8.4193548387096779, 13.333333333333334, 24.29032258064516, 27.70967741935484, 22.103448275862068, 15.32258064516129, 10.666666666666666, 3.4193548387096775, 1.0, 0.12903225806451613, 0.16129032258064516, 2.8333333333333335, 7.5666666666666664, 20.275862068965516, 31.633333333333333, 29.741935483870968, 25.285714285714285, 20.838709677419356, 10.133333333333333, 3.2580645161290325, 1.0333333333333334, 0.12903225806451613, 0.0, 2.3666666666666667, 8.193548387096774, 13.166666666666666, 22.483870967741936, 25.225806451612904, 23.75, 20.129032258064516, 9.8333333333333339, 5.967741935483871, 1.2333333333333334, 0.0, 0.032258064516129031, 1.3333333333333333, 9.870967741935484, 18.666666666666668, 26.096774193548388, 30.193548387096776, 28.464285714285715, 18.129032258064516, 11.466666666666667, 4.838709677419355, 1.3333333333333333, 0.0, 0.032258064516129031, 1.8, 8.0, 16.100000000000001, 25.387096774193548, 30.838709677419356, 27.344827586206897, 15.35483870967742, 10.233333333333333, 3.3870967741935485, 1.0666666666666667, 0.096774193548387094, 0.45161290322580644, 1.4333333333333333, 7.9000000000000004, 16.137931034482758, 28.899999999999999, 27.612903225806452, 24.0, 20.677419354838708, 10.133333333333333, 5.806451612903226, 0.83333333333333337, 0.0, 0.0, 1.0333333333333334, 7.935483870967742, 15.800000000000001, 28.0, 21.64516129032258, 25.535714285714285, 19.06451612903226, 8.9666666666666668, 4.645161290322581, 0.6333333333333333, 0.0, 0.12903225806451613, 2.5333333333333332, 9.7096774193548381, 15.533333333333333, 21.903225806451612, 26.741935483870968, 29.785714285714285, 15.67741935483871, 12.4, 3.3225806451612905, 0.69999999999999996, 0.064516129032258063, 0.16129032258064516, 1.7, 5.967741935483871, 17.166666666666668, 25.258064516129032, 28.258064516129032, 26.03448275862069, 19.225806451612904, 10.533333333333333, 5.5483870967741939, 0.73333333333333328, 0.0, 0.19354838709677419, 1.6666666666666667, 8.9666666666666668, 17.655172413793103, 26.066666666666666, 30.258064516129032, 24.714285714285715, 18.387096774193548, 11.266666666666667, 3.774193548387097, 1.2333333333333334, 0.25806451612903225, 0.25806451612903225, 1.6666666666666667, 10.548387096774194, 14.699999999999999, 27.870967741935484, 29.677419354838708, 28.678571428571427, 17.322580645161292, 8.7666666666666675, 4.5483870967741939, 0.8666666666666667, 0.064516129032258063, 0.16129032258064516, 1.7, 7.419354838709677, 17.266666666666666, 28.741935483870968, 30.548387096774192, 26.107142857142858, 18.322580645161292, 10.133333333333333, 5.193548387096774, 1.1000000000000001, 0.0, 0.0, 1.8666666666666667, 8.1612903225806459, 15.533333333333333, 22.774193548387096, 23.903225806451612, 22.413793103448278, 11.806451612903226, 9.6999999999999993, 2.774193548387097, 1.0666666666666667, 0.0, 0.032258064516129031, 2.1666666666666665, 8.2666666666666675, 17.655172413793103, 21.899999999999999, 26.35483870967742, 26.035714285714285, 20.870967741935484, 11.433333333333334, 4.419354838709677, 0.76666666666666672, 0.096774193548387094, 0.064516129032258063, 2.1333333333333333, 8.2903225806451619, 18.833333333333332, 26.387096774193548, 30.870967741935484, 28.535714285714285, 21.580645161290324, 10.800000000000001, 4.0, 0.66666666666666663, 0.096774193548387094, 0.064516129032258063, 1.9333333333333333, 6.838709677419355, 20.199999999999999, 22.548387096774192, 28.387096774193548, 31.035714285714285, 18.516129032258064, 9.6666666666666661, 3.4838709677419355, 0.56666666666666665, 0.032258064516129031, 0.12903225806451613, 1.0333333333333334, 7.064516129032258, 14.6, 18.451612903225808, 27.967741935483872, 22.275862068965516, 14.225806451612904, 10.133333333333333, 4.838709677419355, 0.5, 0.0, 0.0, 0.66666666666666663, 4.8666666666666663, 13.758620689655173, 25.033333333333335, 24.580645161290324, 19.214285714285715, 17.548387096774192, 8.0, 4.870967741935484, 0.83333333333333337, 0.0, 0.19354838709677419, 1.7, 6.419354838709677, 16.033333333333335, 25.870967741935484]\n"
     ]
    }
   ],
   "source": [
    "print(avgMonth)"
   ]
  },
  {
   "cell_type": "code",
   "execution_count": 8,
   "metadata": {},
   "outputs": [
    {
     "name": "stdout",
     "output_type": "stream",
     "text": [
      "444\n"
     ]
    }
   ],
   "source": [
    "print(len(avgMonth))"
   ]
  },
  {
   "cell_type": "code",
   "execution_count": 9,
   "metadata": {},
   "outputs": [
    {
     "data": {
      "text/html": [
       "<div>\n",
       "<style>\n",
       "    .dataframe thead tr:only-child th {\n",
       "        text-align: right;\n",
       "    }\n",
       "\n",
       "    .dataframe thead th {\n",
       "        text-align: left;\n",
       "    }\n",
       "\n",
       "    .dataframe tbody tr th {\n",
       "        vertical-align: top;\n",
       "    }\n",
       "</style>\n",
       "<table border=\"1\" class=\"dataframe\">\n",
       "  <thead>\n",
       "    <tr style=\"text-align: right;\">\n",
       "      <th></th>\n",
       "      <th>19810101</th>\n",
       "      <th>19810102</th>\n",
       "      <th>19810103</th>\n",
       "      <th>19810104</th>\n",
       "      <th>19810105</th>\n",
       "      <th>19810106</th>\n",
       "      <th>19810107</th>\n",
       "      <th>19810108</th>\n",
       "      <th>19810109</th>\n",
       "      <th>19810110</th>\n",
       "      <th>...</th>\n",
       "      <th>20171222</th>\n",
       "      <th>20171223</th>\n",
       "      <th>20171224</th>\n",
       "      <th>20171225</th>\n",
       "      <th>20171226</th>\n",
       "      <th>20171227</th>\n",
       "      <th>20171228</th>\n",
       "      <th>20171229</th>\n",
       "      <th>20171230</th>\n",
       "      <th>20171231</th>\n",
       "    </tr>\n",
       "    <tr>\n",
       "      <th>Region</th>\n",
       "      <th></th>\n",
       "      <th></th>\n",
       "      <th></th>\n",
       "      <th></th>\n",
       "      <th></th>\n",
       "      <th></th>\n",
       "      <th></th>\n",
       "      <th></th>\n",
       "      <th></th>\n",
       "      <th></th>\n",
       "      <th></th>\n",
       "      <th></th>\n",
       "      <th></th>\n",
       "      <th></th>\n",
       "      <th></th>\n",
       "      <th></th>\n",
       "      <th></th>\n",
       "      <th></th>\n",
       "      <th></th>\n",
       "      <th></th>\n",
       "      <th></th>\n",
       "    </tr>\n",
       "  </thead>\n",
       "  <tbody>\n",
       "    <tr>\n",
       "      <th>1</th>\n",
       "      <td>51</td>\n",
       "      <td>46</td>\n",
       "      <td>55</td>\n",
       "      <td>66</td>\n",
       "      <td>62</td>\n",
       "      <td>51</td>\n",
       "      <td>42</td>\n",
       "      <td>51</td>\n",
       "      <td>58</td>\n",
       "      <td>53</td>\n",
       "      <td>...</td>\n",
       "      <td>40</td>\n",
       "      <td>32</td>\n",
       "      <td>32</td>\n",
       "      <td>34</td>\n",
       "      <td>43</td>\n",
       "      <td>53</td>\n",
       "      <td>59</td>\n",
       "      <td>59</td>\n",
       "      <td>57</td>\n",
       "      <td>59</td>\n",
       "    </tr>\n",
       "    <tr>\n",
       "      <th>2</th>\n",
       "      <td>45</td>\n",
       "      <td>42</td>\n",
       "      <td>50</td>\n",
       "      <td>59</td>\n",
       "      <td>56</td>\n",
       "      <td>47</td>\n",
       "      <td>42</td>\n",
       "      <td>51</td>\n",
       "      <td>56</td>\n",
       "      <td>52</td>\n",
       "      <td>...</td>\n",
       "      <td>31</td>\n",
       "      <td>25</td>\n",
       "      <td>30</td>\n",
       "      <td>33</td>\n",
       "      <td>43</td>\n",
       "      <td>49</td>\n",
       "      <td>54</td>\n",
       "      <td>53</td>\n",
       "      <td>50</td>\n",
       "      <td>55</td>\n",
       "    </tr>\n",
       "    <tr>\n",
       "      <th>3</th>\n",
       "      <td>36</td>\n",
       "      <td>43</td>\n",
       "      <td>51</td>\n",
       "      <td>62</td>\n",
       "      <td>59</td>\n",
       "      <td>48</td>\n",
       "      <td>49</td>\n",
       "      <td>57</td>\n",
       "      <td>55</td>\n",
       "      <td>57</td>\n",
       "      <td>...</td>\n",
       "      <td>29</td>\n",
       "      <td>32</td>\n",
       "      <td>41</td>\n",
       "      <td>47</td>\n",
       "      <td>58</td>\n",
       "      <td>62</td>\n",
       "      <td>60</td>\n",
       "      <td>54</td>\n",
       "      <td>54</td>\n",
       "      <td>60</td>\n",
       "    </tr>\n",
       "    <tr>\n",
       "      <th>4</th>\n",
       "      <td>33</td>\n",
       "      <td>40</td>\n",
       "      <td>46</td>\n",
       "      <td>55</td>\n",
       "      <td>47</td>\n",
       "      <td>39</td>\n",
       "      <td>47</td>\n",
       "      <td>48</td>\n",
       "      <td>48</td>\n",
       "      <td>54</td>\n",
       "      <td>...</td>\n",
       "      <td>39</td>\n",
       "      <td>45</td>\n",
       "      <td>47</td>\n",
       "      <td>55</td>\n",
       "      <td>61</td>\n",
       "      <td>64</td>\n",
       "      <td>57</td>\n",
       "      <td>54</td>\n",
       "      <td>62</td>\n",
       "      <td>68</td>\n",
       "    </tr>\n",
       "    <tr>\n",
       "      <th>5</th>\n",
       "      <td>24</td>\n",
       "      <td>23</td>\n",
       "      <td>26</td>\n",
       "      <td>27</td>\n",
       "      <td>34</td>\n",
       "      <td>31</td>\n",
       "      <td>23</td>\n",
       "      <td>30</td>\n",
       "      <td>31</td>\n",
       "      <td>31</td>\n",
       "      <td>...</td>\n",
       "      <td>12</td>\n",
       "      <td>7</td>\n",
       "      <td>12</td>\n",
       "      <td>20</td>\n",
       "      <td>21</td>\n",
       "      <td>22</td>\n",
       "      <td>27</td>\n",
       "      <td>26</td>\n",
       "      <td>24</td>\n",
       "      <td>29</td>\n",
       "    </tr>\n",
       "    <tr>\n",
       "      <th>6</th>\n",
       "      <td>24</td>\n",
       "      <td>29</td>\n",
       "      <td>28</td>\n",
       "      <td>30</td>\n",
       "      <td>42</td>\n",
       "      <td>36</td>\n",
       "      <td>32</td>\n",
       "      <td>39</td>\n",
       "      <td>35</td>\n",
       "      <td>37</td>\n",
       "      <td>...</td>\n",
       "      <td>9</td>\n",
       "      <td>9</td>\n",
       "      <td>22</td>\n",
       "      <td>33</td>\n",
       "      <td>31</td>\n",
       "      <td>35</td>\n",
       "      <td>37</td>\n",
       "      <td>33</td>\n",
       "      <td>32</td>\n",
       "      <td>39</td>\n",
       "    </tr>\n",
       "    <tr>\n",
       "      <th>7</th>\n",
       "      <td>14</td>\n",
       "      <td>17</td>\n",
       "      <td>17</td>\n",
       "      <td>18</td>\n",
       "      <td>22</td>\n",
       "      <td>18</td>\n",
       "      <td>19</td>\n",
       "      <td>20</td>\n",
       "      <td>18</td>\n",
       "      <td>18</td>\n",
       "      <td>...</td>\n",
       "      <td>9</td>\n",
       "      <td>19</td>\n",
       "      <td>19</td>\n",
       "      <td>24</td>\n",
       "      <td>23</td>\n",
       "      <td>28</td>\n",
       "      <td>28</td>\n",
       "      <td>23</td>\n",
       "      <td>19</td>\n",
       "      <td>27</td>\n",
       "    </tr>\n",
       "    <tr>\n",
       "      <th>8</th>\n",
       "      <td>22</td>\n",
       "      <td>22</td>\n",
       "      <td>23</td>\n",
       "      <td>23</td>\n",
       "      <td>24</td>\n",
       "      <td>26</td>\n",
       "      <td>26</td>\n",
       "      <td>28</td>\n",
       "      <td>28</td>\n",
       "      <td>27</td>\n",
       "      <td>...</td>\n",
       "      <td>36</td>\n",
       "      <td>33</td>\n",
       "      <td>34</td>\n",
       "      <td>30</td>\n",
       "      <td>32</td>\n",
       "      <td>29</td>\n",
       "      <td>26</td>\n",
       "      <td>24</td>\n",
       "      <td>27</td>\n",
       "      <td>30</td>\n",
       "    </tr>\n",
       "    <tr>\n",
       "      <th>9</th>\n",
       "      <td>14</td>\n",
       "      <td>16</td>\n",
       "      <td>14</td>\n",
       "      <td>15</td>\n",
       "      <td>14</td>\n",
       "      <td>15</td>\n",
       "      <td>17</td>\n",
       "      <td>18</td>\n",
       "      <td>17</td>\n",
       "      <td>16</td>\n",
       "      <td>...</td>\n",
       "      <td>23</td>\n",
       "      <td>20</td>\n",
       "      <td>18</td>\n",
       "      <td>17</td>\n",
       "      <td>17</td>\n",
       "      <td>15</td>\n",
       "      <td>13</td>\n",
       "      <td>11</td>\n",
       "      <td>12</td>\n",
       "      <td>15</td>\n",
       "    </tr>\n",
       "    <tr>\n",
       "      <th>CONUS</th>\n",
       "      <td>28</td>\n",
       "      <td>29</td>\n",
       "      <td>33</td>\n",
       "      <td>37</td>\n",
       "      <td>38</td>\n",
       "      <td>33</td>\n",
       "      <td>31</td>\n",
       "      <td>36</td>\n",
       "      <td>37</td>\n",
       "      <td>36</td>\n",
       "      <td>...</td>\n",
       "      <td>23</td>\n",
       "      <td>22</td>\n",
       "      <td>26</td>\n",
       "      <td>30</td>\n",
       "      <td>34</td>\n",
       "      <td>37</td>\n",
       "      <td>38</td>\n",
       "      <td>35</td>\n",
       "      <td>34</td>\n",
       "      <td>40</td>\n",
       "    </tr>\n",
       "  </tbody>\n",
       "</table>\n",
       "<p>10 rows × 13514 columns</p>\n",
       "</div>"
      ],
      "text/plain": [
       "        19810101  19810102  19810103  19810104  19810105  19810106  19810107  \\\n",
       "Region                                                                         \n",
       "1             51        46        55        66        62        51        42   \n",
       "2             45        42        50        59        56        47        42   \n",
       "3             36        43        51        62        59        48        49   \n",
       "4             33        40        46        55        47        39        47   \n",
       "5             24        23        26        27        34        31        23   \n",
       "6             24        29        28        30        42        36        32   \n",
       "7             14        17        17        18        22        18        19   \n",
       "8             22        22        23        23        24        26        26   \n",
       "9             14        16        14        15        14        15        17   \n",
       "CONUS         28        29        33        37        38        33        31   \n",
       "\n",
       "        19810108  19810109  19810110    ...     20171222  20171223  20171224  \\\n",
       "Region                                  ...                                    \n",
       "1             51        58        53    ...           40        32        32   \n",
       "2             51        56        52    ...           31        25        30   \n",
       "3             57        55        57    ...           29        32        41   \n",
       "4             48        48        54    ...           39        45        47   \n",
       "5             30        31        31    ...           12         7        12   \n",
       "6             39        35        37    ...            9         9        22   \n",
       "7             20        18        18    ...            9        19        19   \n",
       "8             28        28        27    ...           36        33        34   \n",
       "9             18        17        16    ...           23        20        18   \n",
       "CONUS         36        37        36    ...           23        22        26   \n",
       "\n",
       "        20171225  20171226  20171227  20171228  20171229  20171230  20171231  \n",
       "Region                                                                        \n",
       "1             34        43        53        59        59        57        59  \n",
       "2             33        43        49        54        53        50        55  \n",
       "3             47        58        62        60        54        54        60  \n",
       "4             55        61        64        57        54        62        68  \n",
       "5             20        21        22        27        26        24        29  \n",
       "6             33        31        35        37        33        32        39  \n",
       "7             24        23        28        28        23        19        27  \n",
       "8             30        32        29        26        24        27        30  \n",
       "9             17        17        15        13        11        12        15  \n",
       "CONUS         30        34        37        38        35        34        40  \n",
       "\n",
       "[10 rows x 13514 columns]"
      ]
     },
     "execution_count": 9,
     "metadata": {},
     "output_type": "execute_result"
    }
   ],
   "source": [
    "result"
   ]
  },
  {
   "cell_type": "code",
   "execution_count": 10,
   "metadata": {
    "collapsed": true
   },
   "outputs": [],
   "source": [
    "x_data = range(1,445)"
   ]
  },
  {
   "cell_type": "code",
   "execution_count": 11,
   "metadata": {},
   "outputs": [
    {
     "name": "stdout",
     "output_type": "stream",
     "text": [
      "range(1, 445)\n"
     ]
    }
   ],
   "source": [
    "print(x_data)"
   ]
  },
  {
   "cell_type": "code",
   "execution_count": 12,
   "metadata": {
    "collapsed": true
   },
   "outputs": [],
   "source": [
    "y_data = avgMonth"
   ]
  },
  {
   "cell_type": "code",
   "execution_count": 13,
   "metadata": {},
   "outputs": [
    {
     "data": {
      "text/plain": [
       "[<matplotlib.lines.Line2D at 0x7fbe6bafbbe0>]"
      ]
     },
     "execution_count": 13,
     "metadata": {},
     "output_type": "execute_result"
    },
    {
     "data": {
      "image/png": "[encoded data removed]",
      "text/plain": [
       "<matplotlib.figure.Figure at 0x7fbe6ef876d8>"
      ]
     },
     "metadata": {},
     "output_type": "display_data"
    }
   ],
   "source": [
    "plt.plot(x_data, y_data)"
   ]
  },
  {
   "cell_type": "code",
   "execution_count": 14,
   "metadata": {},
   "outputs": [
    {
     "data": {
      "text/plain": [
       "<Container object of 444 artists>"
      ]
     },
     "execution_count": 14,
     "metadata": {},
     "output_type": "execute_result"
    },
    {
     "data": {
      "image/png": "[encoded data removed]",
      "text/plain": [
       "<matplotlib.figure.Figure at 0x7fbe6bae1668>"
      ]
     },
     "metadata": {},
     "output_type": "display_data"
    }
   ],
   "source": [
    "plt.bar(x_data, y_data)"
   ]
  },
  {
   "cell_type": "code",
   "execution_count": 15,
   "metadata": {
    "collapsed": true
   },
   "outputs": [],
   "source": [
    "i = 0\n",
    "monthList = []\n",
    "meanList = []\n",
    "while(i < 12):\n",
    "    monthRange = range(i, 444,12)\n",
    "    for j in monthRange:\n",
    "        monthList.append(avgMonth[j])\n",
    "    monthArray = np.asarray(monthList)\n",
    "    monthMean = monthArray.mean()\n",
    "    meanList.append(monthMean)\n",
    "    monthList = []\n",
    "    i += 1"
   ]
  },
  {
   "cell_type": "code",
   "execution_count": 16,
   "metadata": {},
   "outputs": [
    {
     "name": "stdout",
     "output_type": "stream",
     "text": [
      "[28.312118570183085, 25.371255491945149, 18.358326068003485, 10.62972972972973, 4.4176111595466434, 0.97027027027027024, 0.06625980819529205, 0.16129032258064516, 2.077477477477478, 8.1982563208369665, 17.039049394221809, 25.667916303400176]\n"
     ]
    }
   ],
   "source": [
    "print(meanList)"
   ]
  },
  {
   "cell_type": "code",
   "execution_count": 17,
   "metadata": {
    "collapsed": true
   },
   "outputs": [],
   "source": [
    "months = ['Jan','Feb','Mar','Apr','May','Jun','July','Aug','Sep','Oct','Nov','Dec']"
   ]
  },
  {
   "cell_type": "code",
   "execution_count": 18,
   "metadata": {},
   "outputs": [
    {
     "data": {
      "text/plain": [
       "<Container object of 12 artists>"
      ]
     },
     "execution_count": 18,
     "metadata": {},
     "output_type": "execute_result"
    },
    {
     "data": {
      "image/png": "[encoded data removed]",
      "text/plain": [
       "<matplotlib.figure.Figure at 0x7fbe6b9c1e10>"
      ]
     },
     "metadata": {},
     "output_type": "display_data"
    }
   ],
   "source": [
    "plt.bar(months, meanList)"
   ]
  },
  {
   "cell_type": "markdown",
   "metadata": {},
   "source": [
    "# Let's look at the data from January "
   ]
  },
  {
   "cell_type": "code",
   "execution_count": 19,
   "metadata": {
    "collapsed": true
   },
   "outputs": [],
   "source": [
    "JanList = []\n",
    "JanRange = range(0,444,12)"
   ]
  },
  {
   "cell_type": "code",
   "execution_count": 20,
   "metadata": {
    "collapsed": true
   },
   "outputs": [],
   "source": [
    "for i in JanRange:\n",
    "    JanList.append(avgMonth[i])\n",
    "    JanArray = np.asarray(JanList)"
   ]
  },
  {
   "cell_type": "code",
   "execution_count": 21,
   "metadata": {},
   "outputs": [
    {
     "name": "stdout",
     "output_type": "stream",
     "text": [
      "[ 30.96774194  33.70967742  27.77419355  31.58064516  33.64516129\n",
      "  27.06451613  29.29032258  31.93548387  24.93548387  22.87096774\n",
      "  29.22580645  27.03225806  27.16129032  32.41935484  26.87096774\n",
      "  29.93548387  29.5483871   24.09677419  26.96774194  27.70967742\n",
      "  29.74193548  25.22580645  30.19354839  30.83870968  27.61290323\n",
      "  21.64516129  26.74193548  28.25806452  30.25806452  29.67741935\n",
      "  30.5483871   23.90322581  26.35483871  30.87096774  28.38709677\n",
      "  27.96774194  24.58064516]\n"
     ]
    }
   ],
   "source": [
    "print(JanArray)"
   ]
  },
  {
   "cell_type": "code",
   "execution_count": 31,
   "metadata": {},
   "outputs": [
    {
     "name": "stderr",
     "output_type": "stream",
     "text": [
      "Auto-assigning NUTS sampler...\n",
      "Initializing NUTS using jitter+adapt_diag...\n",
      "100%|██████████| 5500/5500 [00:03<00:00, 1515.87it/s]\n"
     ]
    }
   ],
   "source": [
    "with pm.Model() as model:\n",
    "    mu = pm.Normal('mu', mu=13, sd=20, testval=0)\n",
    "    sd = pm.HalfNormal('sd', sd=1)\n",
    "    n = pm.Normal('n', mu=mu, sd=sd, observed=JanArray)\n",
    "\n",
    "    trace = pm.sample(5000)"
   ]
  },
  {
   "cell_type": "code",
   "execution_count": 32,
   "metadata": {},
   "outputs": [
    {
     "data": {
      "image/png": "[encoded data removed]",
      "text/plain": [
       "<matplotlib.figure.Figure at 0x7fbe623e2128>"
      ]
     },
     "metadata": {},
     "output_type": "display_data"
    }
   ],
   "source": [
    "\n",
    "pm.traceplot(trace);\n",
    "\n"
   ]
  },
  {
   "cell_type": "code",
   "execution_count": 33,
   "metadata": {},
   "outputs": [
    {
     "name": "stderr",
     "output_type": "stream",
     "text": [
      "100%|██████████| 500/500 [00:00<00:00, 2863.93it/s]\n"
     ]
    }
   ],
   "source": [
    "ppc = pm.sample_ppc(trace, samples=500, model=model, size=100)"
   ]
  },
  {
   "cell_type": "code",
   "execution_count": 34,
   "metadata": {},
   "outputs": [
    {
     "data": {
      "image/png": "[encoded data removed]",
      "text/plain": [
       "<matplotlib.figure.Figure at 0x7fbe5e390128>"
      ]
     },
     "metadata": {},
     "output_type": "display_data"
    }
   ],
   "source": [
    "ax = plt.subplot()\n",
    "sns.distplot([n.mean() for n in ppc['n']], kde=False, ax=ax)\n",
    "ax.axvline(JanArray.mean())\n",
    "ax.set(title='Posterior predictive of the mean', xlabel='mean(x)', ylabel='Frequency');"
   ]
  },
  {
   "cell_type": "code",
   "execution_count": null,
   "metadata": {
    "collapsed": true
   },
   "outputs": [],
   "source": []
  }
 ],
 "metadata": {
  "kernelspec": {
   "display_name": "Python 3",
   "language": "python",
   "name": "python3"
  },
  "language_info": {
   "codemirror_mode": {
    "name": "ipython",
    "version": 3
   },
   "file_extension": ".py",
   "mimetype": "text/x-python",
   "name": "python",
   "nbconvert_exporter": "python",
   "pygments_lexer": "ipython3",
   "version": "3.6.3"
  }
 },
 "nbformat": 4,
 "nbformat_minor": 2
}
