{
 "cells": [
  {
   "cell_type": "code",
   "execution_count": 1,
   "metadata": {},
   "outputs": [],
   "source": [
    "import pandas as pd\n",
    "import numpy as np"
   ]
  },
  {
   "cell_type": "code",
   "execution_count": 2,
   "metadata": {},
   "outputs": [],
   "source": [
    "i = 1982\n",
    "avgMonth = []\n",
    "regYrStart = [0,31,59,90,120,151,181,212,243,273,304,334]\n",
    "regYrEnd = [31,59,90,120,151,181,212,243,273,304,334,365]\n",
    "leapYrStart = [0,31,60,91,121,152,182,213,244,274,305,335]\n",
    "leapYrEnd = [31,60,91,121,152,182,213,244,274,304,334,365]"
   ]
  },
  {
   "cell_type": "code",
   "execution_count": 3,
   "metadata": {},
   "outputs": [],
   "source": [
    "x = pd.read_table(\"ftp://ftp.cpc.ncep.noaa.gov/htdocs/degree_days/weighted/daily_data/1981/Population.Heating.txt\", delimiter=\"|\", skiprows=[0,1,2])\n",
    "x = x.set_index('Region')"
   ]
  },
  {
   "cell_type": "code",
   "execution_count": 4,
   "metadata": {},
   "outputs": [],
   "source": [
    "for j, k in zip(regYrStart, regYrEnd):\n",
    "            z = x.iloc[9,j:k]\n",
    "            avgMonth.append(z.mean())"
   ]
  },
  {
   "cell_type": "code",
   "execution_count": 5,
   "metadata": {},
   "outputs": [],
   "source": [
    "leapYears = [1984, 1988, 1992, 1996, 2000, 2004, 2008, 2012, 2016]\n",
    "while(i < 2018):\n",
    "    y = pd.read_table(\"ftp://ftp.cpc.ncep.noaa.gov/htdocs/degree_days/weighted/daily_data/%d/Population.Heating.txt\" %(i), delimiter=\"|\", skiprows=[0,1,2])\n",
    "    y = y.set_index('Region')\n",
    "    result = pd.concat([x,y], axis=1)\n",
    "    x = result\n",
    "    if(i in leapYears):\n",
    "        for j, k in zip(leapYrStart, leapYrEnd):\n",
    "            z = y.iloc[9,j:k]\n",
    "            avgMonth.append(z.mean()) \n",
    "    else:\n",
    "        for j, k in zip(regYrStart, regYrEnd):\n",
    "            z = y.iloc[9,j:k]\n",
    "            avgMonth.append(z.mean())\n",
    "    i += 1"
   ]
  },
  {
   "cell_type": "code",
   "execution_count": 6,
   "metadata": {},
   "outputs": [
    {
     "name": "stdout",
     "output_type": "stream",
     "text": [
      "[30.967741935483872, 24.035714285714285, 19.193548387096776, 8.233333333333333, 5.032258064516129, 0.7333333333333333, 0.0967741935483871, 0.12903225806451613, 2.466666666666667, 10.32258064516129, 16.4, 26.870967741935484, 33.70967741935484, 26.821428571428573, 19.451612903225808, 13.333333333333334, 3.2580645161290325, 1.6666666666666667, 0.16129032258064516, 0.4838709677419355, 2.6, 8.548387096774194, 17.166666666666668, 22.193548387096776, 27.774193548387096, 24.571428571428573, 18.35483870967742, 13.8, 5.741935483870968, 1.2333333333333334, 0.12903225806451613, 0.0967741935483871, 2.433333333333333, 7.645161290322581, 16.8, 31.548387096774192, 31.580645161290324, 22.689655172413794, 21.741935483870968, 12.1, 5.258064516129032, 0.8, 0.0967741935483871, 0.0967741935483871, 3.3, 6.833333333333333, 18.517241379310345, 22.333333333333332, 33.645161290322584, 28.214285714285715, 17.258064516129032, 8.566666666666666, 3.3870967741935485, 1.4, 0.0, 0.16129032258064516, 2.8666666666666667, 7.419354838709677, 16.733333333333334, 30.322580645161292, 27.06451612903226, 25.25, 16.870967741935484, 9.533333333333333, 3.806451612903226, 0.7666666666666667, 0.12903225806451613, 0.5806451612903226, 2.533333333333333, 8.225806451612904, 18.333333333333332, 25.29032258064516, 29.29032258064516, 24.892857142857142, 17.967741935483872, 10.233333333333333, 3.4516129032258065, 0.4666666666666667, 0.0967741935483871, 0.3870967741935484, 1.7, 10.483870967741936, 16.266666666666666, 24.677419354838708, 31.93548387096774, 27.17241379310345, 18.677419354838708, 10.966666666666667, 4.129032258064516, 1.3, 0.0967741935483871, 0.1935483870967742, 2.1666666666666665, 10.533333333333333, 16.413793103448278, 26.366666666666667, 24.93548387096774, 29.214285714285715, 18.806451612903224, 11.266666666666667, 5.193548387096774, 0.8, 0.0, 0.25806451612903225, 2.6, 8.064516129032258, 17.7, 33.903225806451616, 22.870967741935484, 22.857142857142858, 16.64516129032258, 10.566666666666666, 5.354838709677419, 0.8666666666666667, 0.0967741935483871, 0.0967741935483871, 2.0, 7.903225806451613, 15.1, 25.451612903225808, 29.225806451612904, 22.107142857142858, 17.774193548387096, 9.4, 3.5161290322580645, 0.8666666666666667, 0.0, 0.0, 2.933333333333333, 7.806451612903226, 19.333333333333332, 23.93548387096774, 27.032258064516128, 22.20689655172414, 18.548387096774192, 11.066666666666666, 4.548387096774194, 1.2666666666666666, 0.2903225806451613, 0.4838709677419355, 2.466666666666667, 8.966666666666667, 18.379310344827587, 26.466666666666665, 27.161290322580644, 28.785714285714285, 20.612903225806452, 11.766666666666667, 3.5161290322580645, 1.5, 0.0, 0.16129032258064516, 3.066666666666667, 9.483870967741936, 19.366666666666667, 26.29032258064516, 32.41935483870968, 28.428571428571427, 18.483870967741936, 9.7, 5.354838709677419, 0.6666666666666666, 0.0, 0.3870967741935484, 1.9333333333333333, 8.387096774193548, 16.0, 23.193548387096776, 26.870967741935484, 26.035714285714285, 17.387096774193548, 12.233333333333333, 5.32258064516129, 1.0333333333333334, 0.0967741935483871, 0.03225806451612903, 2.7, 7.225806451612903, 19.6, 27.774193548387096, 29.93548387096774, 26.137931034482758, 22.387096774193548, 11.7, 5.387096774193548, 0.8333333333333334, 0.06451612903225806, 0.0, 2.5, 8.5, 20.551724137931036, 24.4, 29.548387096774192, 23.678571428571427, 17.0, 13.233333333333333, 5.870967741935484, 1.0, 0.0967741935483871, 0.22580645161290322, 1.9, 9.161290322580646, 19.566666666666666, 25.93548387096774, 24.096774193548388, 21.821428571428573, 19.032258064516128, 10.8, 3.2903225806451615, 1.5333333333333334, 0.0, 0.06451612903225806, 1.1, 7.419354838709677, 15.8, 23.161290322580644, 26.967741935483872, 22.5, 20.06451612903226, 10.533333333333333, 3.935483870967742, 1.0, 0.03225806451612903, 0.06451612903225806, 2.033333333333333, 8.419354838709678, 13.333333333333334, 24.29032258064516, 27.70967741935484, 22.103448275862068, 15.32258064516129, 10.666666666666666, 3.4193548387096775, 1.0, 0.12903225806451613, 0.16129032258064516, 2.8333333333333335, 7.566666666666666, 20.275862068965516, 31.633333333333333, 29.741935483870968, 25.285714285714285, 20.838709677419356, 10.133333333333333, 3.2580645161290325, 1.0333333333333334, 0.12903225806451613, 0.0, 2.3666666666666667, 8.193548387096774, 13.166666666666666, 22.483870967741936, 25.225806451612904, 23.75, 20.129032258064516, 9.833333333333334, 5.967741935483871, 1.2333333333333334, 0.0, 0.03225806451612903, 1.3333333333333333, 9.870967741935484, 18.666666666666668, 26.096774193548388, 30.193548387096776, 28.464285714285715, 18.129032258064516, 11.466666666666667, 4.838709677419355, 1.3333333333333333, 0.0, 0.03225806451612903, 1.8, 8.0, 16.1, 25.387096774193548, 30.838709677419356, 27.344827586206897, 15.35483870967742, 10.233333333333333, 3.3870967741935485, 1.0666666666666667, 0.0967741935483871, 0.45161290322580644, 1.4333333333333333, 7.9, 16.137931034482758, 28.9, 27.612903225806452, 24.0, 20.677419354838708, 10.133333333333333, 5.806451612903226, 0.8333333333333334, 0.0, 0.0, 1.0333333333333334, 7.935483870967742, 15.8, 28.0, 21.64516129032258, 25.535714285714285, 19.06451612903226, 8.966666666666667, 4.645161290322581, 0.6333333333333333, 0.0, 0.12903225806451613, 2.533333333333333, 9.709677419354838, 15.533333333333333, 21.903225806451612, 26.741935483870968, 29.785714285714285, 15.67741935483871, 12.4, 3.3225806451612905, 0.7, 0.06451612903225806, 0.16129032258064516, 1.7, 5.967741935483871, 17.166666666666668, 25.258064516129032, 28.258064516129032, 26.03448275862069, 19.225806451612904, 10.533333333333333, 5.548387096774194, 0.7333333333333333, 0.0, 0.1935483870967742, 1.6666666666666667, 8.966666666666667, 17.655172413793103, 26.066666666666666, 30.258064516129032, 24.714285714285715, 18.387096774193548, 11.266666666666667, 3.774193548387097, 1.2333333333333334, 0.25806451612903225, 0.25806451612903225, 1.6666666666666667, 10.548387096774194, 14.7, 27.870967741935484, 29.677419354838708, 28.678571428571427, 17.322580645161292, 8.766666666666667, 4.548387096774194, 0.8666666666666667, 0.06451612903225806, 0.16129032258064516, 1.7, 7.419354838709677, 17.266666666666666, 28.741935483870968, 30.548387096774192, 26.107142857142858, 18.322580645161292, 10.133333333333333, 5.193548387096774, 1.1, 0.0, 0.0, 1.8666666666666667, 8.161290322580646, 15.533333333333333, 22.774193548387096, 23.903225806451612, 22.413793103448278, 11.806451612903226, 9.7, 2.774193548387097, 1.0666666666666667, 0.0, 0.03225806451612903, 2.1666666666666665, 8.266666666666667, 17.655172413793103, 21.9, 26.35483870967742, 26.035714285714285, 20.870967741935484, 11.433333333333334, 4.419354838709677, 0.7666666666666667, 0.0967741935483871, 0.06451612903225806, 2.1333333333333333, 8.290322580645162, 18.833333333333332, 26.387096774193548, 30.870967741935484, 28.535714285714285, 21.580645161290324, 10.8, 4.0, 0.6666666666666666, 0.0967741935483871, 0.06451612903225806, 1.9333333333333333, 6.838709677419355, 20.2, 22.548387096774192, 28.387096774193548, 31.035714285714285, 18.516129032258064, 9.666666666666666, 3.4838709677419355, 0.5666666666666667, 0.03225806451612903, 0.12903225806451613, 1.0333333333333334, 7.064516129032258, 14.6, 18.451612903225808, 27.967741935483872, 22.275862068965516, 14.225806451612904, 10.133333333333333, 4.838709677419355, 0.5, 0.0, 0.0, 0.6666666666666666, 4.866666666666666, 13.758620689655173, 25.033333333333335, 24.580645161290324, 19.214285714285715, 17.548387096774192, 8.0, 4.870967741935484, 0.8333333333333334, 0.0, 0.1935483870967742, 1.7, 6.419354838709677, 16.033333333333335, 25.870967741935484]\n"
     ]
    }
   ],
   "source": [
    "print(avgMonth)"
   ]
  },
  {
   "cell_type": "code",
   "execution_count": 7,
   "metadata": {},
   "outputs": [
    {
     "name": "stdout",
     "output_type": "stream",
     "text": [
      "444\n"
     ]
    }
   ],
   "source": [
    "print(len(avgMonth))"
   ]
  },
  {
   "cell_type": "code",
   "execution_count": 8,
   "metadata": {},
   "outputs": [
    {
     "data": {
      "text/html": [
       "<div>\n",
       "<style scoped>\n",
       "    .dataframe tbody tr th:only-of-type {\n",
       "        vertical-align: middle;\n",
       "    }\n",
       "\n",
       "    .dataframe tbody tr th {\n",
       "        vertical-align: top;\n",
       "    }\n",
       "\n",
       "    .dataframe thead th {\n",
       "        text-align: right;\n",
       "    }\n",
       "</style>\n",
       "<table border=\"1\" class=\"dataframe\">\n",
       "  <thead>\n",
       "    <tr style=\"text-align: right;\">\n",
       "      <th></th>\n",
       "      <th>19810101</th>\n",
       "      <th>19810102</th>\n",
       "      <th>19810103</th>\n",
       "      <th>19810104</th>\n",
       "      <th>19810105</th>\n",
       "      <th>19810106</th>\n",
       "      <th>19810107</th>\n",
       "      <th>19810108</th>\n",
       "      <th>19810109</th>\n",
       "      <th>19810110</th>\n",
       "      <th>...</th>\n",
       "      <th>20171222</th>\n",
       "      <th>20171223</th>\n",
       "      <th>20171224</th>\n",
       "      <th>20171225</th>\n",
       "      <th>20171226</th>\n",
       "      <th>20171227</th>\n",
       "      <th>20171228</th>\n",
       "      <th>20171229</th>\n",
       "      <th>20171230</th>\n",
       "      <th>20171231</th>\n",
       "    </tr>\n",
       "    <tr>\n",
       "      <th>Region</th>\n",
       "      <th></th>\n",
       "      <th></th>\n",
       "      <th></th>\n",
       "      <th></th>\n",
       "      <th></th>\n",
       "      <th></th>\n",
       "      <th></th>\n",
       "      <th></th>\n",
       "      <th></th>\n",
       "      <th></th>\n",
       "      <th></th>\n",
       "      <th></th>\n",
       "      <th></th>\n",
       "      <th></th>\n",
       "      <th></th>\n",
       "      <th></th>\n",
       "      <th></th>\n",
       "      <th></th>\n",
       "      <th></th>\n",
       "      <th></th>\n",
       "      <th></th>\n",
       "    </tr>\n",
       "  </thead>\n",
       "  <tbody>\n",
       "    <tr>\n",
       "      <th>1</th>\n",
       "      <td>51</td>\n",
       "      <td>46</td>\n",
       "      <td>55</td>\n",
       "      <td>66</td>\n",
       "      <td>62</td>\n",
       "      <td>51</td>\n",
       "      <td>42</td>\n",
       "      <td>51</td>\n",
       "      <td>58</td>\n",
       "      <td>53</td>\n",
       "      <td>...</td>\n",
       "      <td>40</td>\n",
       "      <td>32</td>\n",
       "      <td>32</td>\n",
       "      <td>34</td>\n",
       "      <td>43</td>\n",
       "      <td>53</td>\n",
       "      <td>59</td>\n",
       "      <td>59</td>\n",
       "      <td>57</td>\n",
       "      <td>59</td>\n",
       "    </tr>\n",
       "    <tr>\n",
       "      <th>2</th>\n",
       "      <td>45</td>\n",
       "      <td>42</td>\n",
       "      <td>50</td>\n",
       "      <td>59</td>\n",
       "      <td>56</td>\n",
       "      <td>47</td>\n",
       "      <td>42</td>\n",
       "      <td>51</td>\n",
       "      <td>56</td>\n",
       "      <td>52</td>\n",
       "      <td>...</td>\n",
       "      <td>31</td>\n",
       "      <td>25</td>\n",
       "      <td>30</td>\n",
       "      <td>33</td>\n",
       "      <td>43</td>\n",
       "      <td>49</td>\n",
       "      <td>54</td>\n",
       "      <td>53</td>\n",
       "      <td>50</td>\n",
       "      <td>55</td>\n",
       "    </tr>\n",
       "    <tr>\n",
       "      <th>3</th>\n",
       "      <td>36</td>\n",
       "      <td>43</td>\n",
       "      <td>51</td>\n",
       "      <td>62</td>\n",
       "      <td>59</td>\n",
       "      <td>48</td>\n",
       "      <td>49</td>\n",
       "      <td>57</td>\n",
       "      <td>55</td>\n",
       "      <td>57</td>\n",
       "      <td>...</td>\n",
       "      <td>29</td>\n",
       "      <td>32</td>\n",
       "      <td>41</td>\n",
       "      <td>47</td>\n",
       "      <td>58</td>\n",
       "      <td>62</td>\n",
       "      <td>60</td>\n",
       "      <td>54</td>\n",
       "      <td>54</td>\n",
       "      <td>60</td>\n",
       "    </tr>\n",
       "    <tr>\n",
       "      <th>4</th>\n",
       "      <td>33</td>\n",
       "      <td>40</td>\n",
       "      <td>46</td>\n",
       "      <td>55</td>\n",
       "      <td>47</td>\n",
       "      <td>39</td>\n",
       "      <td>47</td>\n",
       "      <td>48</td>\n",
       "      <td>48</td>\n",
       "      <td>54</td>\n",
       "      <td>...</td>\n",
       "      <td>39</td>\n",
       "      <td>45</td>\n",
       "      <td>47</td>\n",
       "      <td>55</td>\n",
       "      <td>61</td>\n",
       "      <td>64</td>\n",
       "      <td>57</td>\n",
       "      <td>54</td>\n",
       "      <td>62</td>\n",
       "      <td>68</td>\n",
       "    </tr>\n",
       "    <tr>\n",
       "      <th>5</th>\n",
       "      <td>24</td>\n",
       "      <td>23</td>\n",
       "      <td>26</td>\n",
       "      <td>27</td>\n",
       "      <td>34</td>\n",
       "      <td>31</td>\n",
       "      <td>23</td>\n",
       "      <td>30</td>\n",
       "      <td>31</td>\n",
       "      <td>31</td>\n",
       "      <td>...</td>\n",
       "      <td>12</td>\n",
       "      <td>7</td>\n",
       "      <td>12</td>\n",
       "      <td>20</td>\n",
       "      <td>21</td>\n",
       "      <td>22</td>\n",
       "      <td>27</td>\n",
       "      <td>26</td>\n",
       "      <td>24</td>\n",
       "      <td>29</td>\n",
       "    </tr>\n",
       "    <tr>\n",
       "      <th>6</th>\n",
       "      <td>24</td>\n",
       "      <td>29</td>\n",
       "      <td>28</td>\n",
       "      <td>30</td>\n",
       "      <td>42</td>\n",
       "      <td>36</td>\n",
       "      <td>32</td>\n",
       "      <td>39</td>\n",
       "      <td>35</td>\n",
       "      <td>37</td>\n",
       "      <td>...</td>\n",
       "      <td>9</td>\n",
       "      <td>9</td>\n",
       "      <td>22</td>\n",
       "      <td>33</td>\n",
       "      <td>31</td>\n",
       "      <td>35</td>\n",
       "      <td>37</td>\n",
       "      <td>33</td>\n",
       "      <td>32</td>\n",
       "      <td>39</td>\n",
       "    </tr>\n",
       "    <tr>\n",
       "      <th>7</th>\n",
       "      <td>14</td>\n",
       "      <td>17</td>\n",
       "      <td>17</td>\n",
       "      <td>18</td>\n",
       "      <td>22</td>\n",
       "      <td>18</td>\n",
       "      <td>19</td>\n",
       "      <td>20</td>\n",
       "      <td>18</td>\n",
       "      <td>18</td>\n",
       "      <td>...</td>\n",
       "      <td>9</td>\n",
       "      <td>19</td>\n",
       "      <td>19</td>\n",
       "      <td>24</td>\n",
       "      <td>23</td>\n",
       "      <td>28</td>\n",
       "      <td>28</td>\n",
       "      <td>23</td>\n",
       "      <td>19</td>\n",
       "      <td>27</td>\n",
       "    </tr>\n",
       "    <tr>\n",
       "      <th>8</th>\n",
       "      <td>22</td>\n",
       "      <td>22</td>\n",
       "      <td>23</td>\n",
       "      <td>23</td>\n",
       "      <td>24</td>\n",
       "      <td>26</td>\n",
       "      <td>26</td>\n",
       "      <td>28</td>\n",
       "      <td>28</td>\n",
       "      <td>27</td>\n",
       "      <td>...</td>\n",
       "      <td>36</td>\n",
       "      <td>33</td>\n",
       "      <td>34</td>\n",
       "      <td>30</td>\n",
       "      <td>32</td>\n",
       "      <td>29</td>\n",
       "      <td>26</td>\n",
       "      <td>24</td>\n",
       "      <td>27</td>\n",
       "      <td>30</td>\n",
       "    </tr>\n",
       "    <tr>\n",
       "      <th>9</th>\n",
       "      <td>14</td>\n",
       "      <td>16</td>\n",
       "      <td>14</td>\n",
       "      <td>15</td>\n",
       "      <td>14</td>\n",
       "      <td>15</td>\n",
       "      <td>17</td>\n",
       "      <td>18</td>\n",
       "      <td>17</td>\n",
       "      <td>16</td>\n",
       "      <td>...</td>\n",
       "      <td>23</td>\n",
       "      <td>20</td>\n",
       "      <td>18</td>\n",
       "      <td>17</td>\n",
       "      <td>17</td>\n",
       "      <td>15</td>\n",
       "      <td>13</td>\n",
       "      <td>11</td>\n",
       "      <td>12</td>\n",
       "      <td>15</td>\n",
       "    </tr>\n",
       "    <tr>\n",
       "      <th>CONUS</th>\n",
       "      <td>28</td>\n",
       "      <td>29</td>\n",
       "      <td>33</td>\n",
       "      <td>37</td>\n",
       "      <td>38</td>\n",
       "      <td>33</td>\n",
       "      <td>31</td>\n",
       "      <td>36</td>\n",
       "      <td>37</td>\n",
       "      <td>36</td>\n",
       "      <td>...</td>\n",
       "      <td>23</td>\n",
       "      <td>22</td>\n",
       "      <td>26</td>\n",
       "      <td>30</td>\n",
       "      <td>34</td>\n",
       "      <td>37</td>\n",
       "      <td>38</td>\n",
       "      <td>35</td>\n",
       "      <td>34</td>\n",
       "      <td>40</td>\n",
       "    </tr>\n",
       "  </tbody>\n",
       "</table>\n",
       "<p>10 rows × 13514 columns</p>\n",
       "</div>"
      ],
      "text/plain": [
       "        19810101  19810102  19810103  19810104  19810105  19810106  19810107  \\\n",
       "Region                                                                         \n",
       "1             51        46        55        66        62        51        42   \n",
       "2             45        42        50        59        56        47        42   \n",
       "3             36        43        51        62        59        48        49   \n",
       "4             33        40        46        55        47        39        47   \n",
       "5             24        23        26        27        34        31        23   \n",
       "6             24        29        28        30        42        36        32   \n",
       "7             14        17        17        18        22        18        19   \n",
       "8             22        22        23        23        24        26        26   \n",
       "9             14        16        14        15        14        15        17   \n",
       "CONUS         28        29        33        37        38        33        31   \n",
       "\n",
       "        19810108  19810109  19810110    ...     20171222  20171223  20171224  \\\n",
       "Region                                  ...                                    \n",
       "1             51        58        53    ...           40        32        32   \n",
       "2             51        56        52    ...           31        25        30   \n",
       "3             57        55        57    ...           29        32        41   \n",
       "4             48        48        54    ...           39        45        47   \n",
       "5             30        31        31    ...           12         7        12   \n",
       "6             39        35        37    ...            9         9        22   \n",
       "7             20        18        18    ...            9        19        19   \n",
       "8             28        28        27    ...           36        33        34   \n",
       "9             18        17        16    ...           23        20        18   \n",
       "CONUS         36        37        36    ...           23        22        26   \n",
       "\n",
       "        20171225  20171226  20171227  20171228  20171229  20171230  20171231  \n",
       "Region                                                                        \n",
       "1             34        43        53        59        59        57        59  \n",
       "2             33        43        49        54        53        50        55  \n",
       "3             47        58        62        60        54        54        60  \n",
       "4             55        61        64        57        54        62        68  \n",
       "5             20        21        22        27        26        24        29  \n",
       "6             33        31        35        37        33        32        39  \n",
       "7             24        23        28        28        23        19        27  \n",
       "8             30        32        29        26        24        27        30  \n",
       "9             17        17        15        13        11        12        15  \n",
       "CONUS         30        34        37        38        35        34        40  \n",
       "\n",
       "[10 rows x 13514 columns]"
      ]
     },
     "execution_count": 8,
     "metadata": {},
     "output_type": "execute_result"
    }
   ],
   "source": [
    "result"
   ]
  },
  {
   "cell_type": "code",
   "execution_count": 9,
   "metadata": {},
   "outputs": [],
   "source": [
    "x_data = range(1,445)"
   ]
  },
  {
   "cell_type": "code",
   "execution_count": 10,
   "metadata": {},
   "outputs": [
    {
     "name": "stdout",
     "output_type": "stream",
     "text": [
      "range(1, 445)\n"
     ]
    }
   ],
   "source": [
    "print(x_data)"
   ]
  },
  {
   "cell_type": "code",
   "execution_count": 11,
   "metadata": {},
   "outputs": [],
   "source": [
    "y_data = avgMonth"
   ]
  },
  {
   "cell_type": "code",
   "execution_count": 12,
   "metadata": {},
   "outputs": [],
   "source": [
    "import matplotlib.pyplot as plt\n",
    "% matplotlib inline"
   ]
  },
  {
   "cell_type": "code",
   "execution_count": 14,
   "metadata": {},
   "outputs": [
    {
     "data": {
      "text/plain": [
       "[<matplotlib.lines.Line2D at 0x222bd2a9438>]"
      ]
     },
     "execution_count": 14,
     "metadata": {},
     "output_type": "execute_result"
    },
    {
     "data": {
      "image/png": "[encoded data removed]",
      "text/plain": [
       "<matplotlib.figure.Figure at 0x222bcf38780>"
      ]
     },
     "metadata": {},
     "output_type": "display_data"
    }
   ],
   "source": [
    "plt.plot(x_data, y_data)"
   ]
  },
  {
   "cell_type": "code",
   "execution_count": 15,
   "metadata": {},
   "outputs": [
    {
     "data": {
      "text/plain": [
       "<Container object of 444 artists>"
      ]
     },
     "execution_count": 15,
     "metadata": {},
     "output_type": "execute_result"
    },
    {
     "data": {
      "image/png": "[encoded data removed]",
      "text/plain": [
       "<matplotlib.figure.Figure at 0x222bd27e0b8>"
      ]
     },
     "metadata": {},
     "output_type": "display_data"
    }
   ],
   "source": [
    "plt.bar(x_data, y_data)"
   ]
  },
  {
   "cell_type": "code",
   "execution_count": 16,
   "metadata": {},
   "outputs": [
    {
     "data": {
      "text/plain": [
       "1"
      ]
     },
     "execution_count": 16,
     "metadata": {},
     "output_type": "execute_result"
    }
   ],
   "source": [
    "x_data[0]"
   ]
  },
  {
   "cell_type": "code",
   "execution_count": 17,
   "metadata": {},
   "outputs": [
    {
     "data": {
      "text/plain": [
       "30.967741935483872"
      ]
     },
     "execution_count": 17,
     "metadata": {},
     "output_type": "execute_result"
    }
   ],
   "source": [
    "y_data[0]"
   ]
  },
  {
   "cell_type": "code",
   "execution_count": 19,
   "metadata": {},
   "outputs": [],
   "source": [
    "x_data2 = range(0,444,12)"
   ]
  },
  {
   "cell_type": "code",
   "execution_count": 20,
   "metadata": {},
   "outputs": [
    {
     "name": "stdout",
     "output_type": "stream",
     "text": [
      "0\n",
      "12\n",
      "24\n",
      "36\n",
      "48\n",
      "60\n",
      "72\n",
      "84\n",
      "96\n",
      "108\n",
      "120\n",
      "132\n",
      "144\n",
      "156\n",
      "168\n",
      "180\n",
      "192\n",
      "204\n",
      "216\n",
      "228\n",
      "240\n",
      "252\n",
      "264\n",
      "276\n",
      "288\n",
      "300\n",
      "312\n",
      "324\n",
      "336\n",
      "348\n",
      "360\n",
      "372\n",
      "384\n",
      "396\n",
      "408\n",
      "420\n",
      "432\n"
     ]
    }
   ],
   "source": [
    "for i in x_data2:\n",
    "    print(i)"
   ]
  },
  {
   "cell_type": "code",
   "execution_count": 27,
   "metadata": {},
   "outputs": [],
   "source": [
    "import numpy as np"
   ]
  },
  {
   "cell_type": "code",
   "execution_count": 28,
   "metadata": {},
   "outputs": [],
   "source": [
    "JanList = []\n",
    "JanRange = range(0,444,12)"
   ]
  },
  {
   "cell_type": "code",
   "execution_count": 31,
   "metadata": {},
   "outputs": [],
   "source": [
    "for i in JanRange:\n",
    "    JanList.append(avgMonth[i])\n",
    "    JanArray = np.asarray(JanList)\n",
    "    JanMean = JanArray.mean()"
   ]
  },
  {
   "cell_type": "code",
   "execution_count": 32,
   "metadata": {},
   "outputs": [
    {
     "name": "stdout",
     "output_type": "stream",
     "text": [
      "28.312118570183085\n"
     ]
    }
   ],
   "source": [
    "print(JanMean)"
   ]
  },
  {
   "cell_type": "markdown",
   "metadata": {},
   "source": [
    "months = {}\n",
    "i = 0\n",
    "while(i < 12):\n",
    "    "
   ]
  },
  {
   "cell_type": "code",
   "execution_count": 34,
   "metadata": {},
   "outputs": [],
   "source": [
    "monthsList = ['Jan','Feb','Mar','Apr','May','Jun','Jul','Aug','Sep','Oct','Nov','Dec']\n",
    "monthsCounter = [0,1,2,3,4,5,6,7,8,9,10,11]"
   ]
  },
  {
   "cell_type": "markdown",
   "metadata": {},
   "source": [
    "for i, j in zip(monthsList, monthsCounter):\n",
    "        "
   ]
  },
  {
   "cell_type": "code",
   "execution_count": 37,
   "metadata": {},
   "outputs": [],
   "source": [
    "FebList = []\n",
    "FebRange = range(1,444,12)"
   ]
  },
  {
   "cell_type": "code",
   "execution_count": 38,
   "metadata": {},
   "outputs": [],
   "source": [
    "for i in FebRange:\n",
    "    FebList.append(avgMonth[i])\n",
    "    FebArray = np.asarray(FebList)\n",
    "    FebMean = FebArray.mean()"
   ]
  },
  {
   "cell_type": "code",
   "execution_count": 39,
   "metadata": {},
   "outputs": [
    {
     "name": "stdout",
     "output_type": "stream",
     "text": [
      "25.37125549194515\n"
     ]
    }
   ],
   "source": [
    "print(FebMean)"
   ]
  },
  {
   "cell_type": "code",
   "execution_count": 40,
   "metadata": {},
   "outputs": [
    {
     "name": "stdout",
     "output_type": "stream",
     "text": [
      "[24.035714285714285, 26.821428571428573, 24.571428571428573, 22.689655172413794, 28.214285714285715, 25.25, 24.892857142857142, 27.17241379310345, 29.214285714285715, 22.857142857142858, 22.107142857142858, 22.20689655172414, 28.785714285714285, 28.428571428571427, 26.035714285714285, 26.137931034482758, 23.678571428571427, 21.821428571428573, 22.5, 22.103448275862068, 25.285714285714285, 23.75, 28.464285714285715, 27.344827586206897, 24.0, 25.535714285714285, 29.785714285714285, 26.03448275862069, 24.714285714285715, 28.678571428571427, 26.107142857142858, 22.413793103448278, 26.035714285714285, 28.535714285714285, 31.035714285714285, 22.275862068965516, 19.214285714285715]\n"
     ]
    }
   ],
   "source": [
    "print(FebList)"
   ]
  },
  {
   "cell_type": "code",
   "execution_count": 42,
   "metadata": {},
   "outputs": [],
   "source": [
    "i = 0\n",
    "mnthList = []\n",
    "mnthMeans = []\n",
    "while(i < 11):\n",
    "    monthRange = range(i, 444,12)\n",
    "    for j in monthRange:\n",
    "        mnthList.append(avgMonth[j])\n",
    "        mnthArray = np.asarray(mnthList)\n",
    "        mnthMean = mnthArray.mean()\n",
    "        mnthMeans.append(mnthMean)\n",
    "    mnthList = []\n",
    "    i += 1"
   ]
  },
  {
   "cell_type": "code",
   "execution_count": 43,
   "metadata": {},
   "outputs": [
    {
     "name": "stdout",
     "output_type": "stream",
     "text": [
      "[30.967741935483872, 32.33870967741936, 30.817204301075275, 31.008064516129036, 31.535483870967745, 30.790322580645164, 30.57603686635945, 30.745967741935488, 30.10035842293907, 29.377419354838715, 29.36363636363637, 29.169354838709683, 29.014888337468992, 29.258064516129043, 29.098924731182805, 29.151209677419352, 29.17457305502846, 28.892473118279568, 28.791171477079796, 28.73709677419355, 28.78494623655914, 28.62316715542522, 28.69144460028051, 28.780913978494624, 28.734193548387097, 28.46153846153846, 28.397849462365592, 28.392857142857142, 28.457174638487206, 28.49784946236559, 28.56399583766909, 28.418346774193544, 28.355816226783965, 28.429791271347245, 28.428571428571427, 28.415770609318994, 28.312118570183085, 24.035714285714285, 25.42857142857143, 25.142857142857142, 24.529556650246306, 25.266502463054188, 25.263752052545158, 25.21076706544687, 25.455972906403943, 25.873563218390807, 25.571921182266014, 25.256941334527543, 25.002770935960594, 25.29376657824934, 25.5176812104152, 25.552216748768476, 25.588823891625616, 25.476456099681254, 25.273399014778324, 25.127430645579466, 24.976231527093596, 24.99096880131363, 24.93456112852665, 25.088027414863998, 25.182060755336618, 25.13477832512315, 25.150198938992045, 25.32188469257435, 25.347334623504576, 25.32550535077289, 25.437274220032844, 25.45888288574607, 25.363723830049263, 25.38408717719063, 25.476782092147207, 25.635608726249128, 25.54228243021347, 25.37125549194515, 19.193548387096776, 19.322580645161292, 19.0, 19.685483870967744, 19.2, 18.811827956989248, 18.691244239631338, 18.689516129032256, 18.702508960573475, 18.496774193548386, 18.431085043988272, 18.440860215053764, 18.607940446650126, 18.59907834101383, 18.518279569892474, 18.76008064516129, 18.656546489563567, 18.677419354838705, 18.750424448217313, 18.57903225806451, 18.686635944700456, 18.75219941348973, 18.72510518934081, 18.58467741935484, 18.668387096774197, 18.68362282878412, 18.572281959378735, 18.59562211981567, 18.58843159065629, 18.54623655913979, 18.53902185223726, 18.328629032258064, 18.405669599217987, 18.499051233396585, 18.499539170506914, 18.380824372759857, 18.358326068003485, 8.233333333333333, 10.783333333333333, 11.78888888888889, 11.866666666666667, 11.206666666666667, 10.927777777777777, 10.828571428571427, 10.845833333333333, 10.892592592592592, 10.86, 10.727272727272727, 10.755555555555555, 10.833333333333334, 10.752380952380951, 10.851111111111111, 10.904166666666665, 11.041176470588233, 11.027777777777777, 11.00175438596491, 10.984999999999998, 10.944444444444443, 10.893939393939393, 10.918840579710144, 10.890277777777778, 10.86, 10.787179487179486, 10.846913580246913, 10.835714285714285, 10.850574712643677, 10.781111111111109, 10.760215053763439, 10.727083333333333, 10.748484848484848, 10.75, 10.71904761904762, 10.702777777777778, 10.62972972972973, 5.032258064516129, 4.145161290322581, 4.67741935483871, 4.82258064516129, 4.535483870967742, 4.413978494623656, 4.276497695852535, 4.258064516129032, 4.362007168458781, 4.461290322580645, 4.375366568914956, 4.389784946236559, 4.32258064516129, 4.396313364055299, 4.458064516129031, 4.516129032258064, 4.595825426944971, 4.523297491039426, 4.492359932088285, 4.4387096774193555, 4.3824884792626735, 4.454545454545455, 4.47124824684432, 4.426075268817204, 4.481290322580645, 4.487593052109181, 4.444444444444445, 4.483870967741935, 4.459399332591769, 4.46236559139785, 4.485952133194589, 4.432459677419355, 4.432062561094819, 4.419354838709677, 4.392626728110598, 4.405017921146953, 4.417611159546643, 0.7333333333333333, 1.2, 1.211111111111111, 1.1083333333333334, 1.1666666666666667, 1.1, 1.0095238095238097, 1.0458333333333334, 1.0185185185185186, 1.0033333333333334, 0.9909090909090911, 1.013888888888889, 1.0512820512820513, 1.023809523809524, 1.0244444444444445, 1.0125, 1.011764705882353, 1.0407407407407407, 1.0385964912280703, 1.0366666666666666, 1.0365079365079366, 1.0454545454545456, 1.0579710144927537, 1.0583333333333333, 1.0493333333333332, 1.0333333333333332, 1.0209876543209875, 1.0107142857142857, 1.018390804597701, 1.0133333333333332, 1.0161290322580645, 1.0177083333333332, 1.01010101010101, 0.9999999999999998, 0.9876190476190475, 0.974074074074074, 0.9702702702702702, 0.0967741935483871, 0.12903225806451613, 0.12903225806451613, 0.12096774193548387, 0.0967741935483871, 0.10215053763440861, 0.10138248847926268, 0.10080645161290322, 0.08960573476702509, 0.09032258064516129, 0.08211143695014662, 0.09946236559139786, 0.09181141439205956, 0.08525345622119816, 0.08602150537634408, 0.08467741935483872, 0.08538899430740038, 0.08064516129032258, 0.07809847198641766, 0.08064516129032258, 0.08294930875576036, 0.07917888563049852, 0.07573632538569423, 0.07661290322580645, 0.07354838709677419, 0.0707196029776675, 0.07048984468339306, 0.06797235023041474, 0.07452725250278086, 0.07419354838709677, 0.07180020811654526, 0.06955645161290322, 0.07038123167155425, 0.07115749525616698, 0.07004608294930874, 0.06810035842293906, 0.06625980819529205, 0.12903225806451613, 0.3064516129032258, 0.23655913978494625, 0.20161290322580647, 0.1935483870967742, 0.25806451612903225, 0.2764976958525346, 0.2661290322580645, 0.2652329749103942, 0.24838709677419352, 0.2258064516129032, 0.24731182795698922, 0.24069478908188582, 0.25115207373271886, 0.2365591397849462, 0.2217741935483871, 0.22201138519924096, 0.2132616487455197, 0.2054329371816638, 0.2032258064516129, 0.1935483870967742, 0.18621700879765396, 0.17952314165497896, 0.1908602150537634, 0.18322580645161288, 0.18114143920595532, 0.18040621266427714, 0.18087557603686633, 0.18353726362625136, 0.18279569892473113, 0.17689906347554626, 0.17237903225806453, 0.1691104594330401, 0.16603415559772297, 0.16497695852534563, 0.16039426523297493, 0.16129032258064516, 2.466666666666667, 2.533333333333333, 2.5, 2.7, 2.7333333333333334, 2.7000000000000006, 2.5571428571428574, 2.508333333333333, 2.518518518518518, 2.4666666666666663, 2.509090909090909, 2.505555555555555, 2.5487179487179485, 2.5047619047619043, 2.517777777777778, 2.5166666666666666, 2.480392156862745, 2.4037037037037035, 2.384210526315789, 2.4066666666666667, 2.4047619047619047, 2.356060606060606, 2.3318840579710143, 2.2944444444444443, 2.2439999999999998, 2.2551282051282047, 2.2345679012345676, 2.214285714285714, 2.1954022988505746, 2.178888888888889, 2.168817204301075, 2.16875, 2.167676767676768, 2.1607843137254905, 2.128571428571429, 2.0879629629629637, 2.077477477477478, 10.32258064516129, 9.435483870967742, 8.838709677419354, 8.33736559139785, 8.153763440860216, 8.165770609318997, 8.496927803379418, 8.751478494623655, 8.675149342891277, 8.597956989247312, 8.526001955034213, 8.562724014336917, 8.63358147229115, 8.615975422427036, 8.523297491039425, 8.521841397849462, 8.559456040480708, 8.49611708482676, 8.492076966610071, 8.445806451612901, 8.43379416282642, 8.499120234604105, 8.477419354838707, 8.453360215053763, 8.432645161290322, 8.481761786600497, 8.388649940262844, 8.409293394777267, 8.483055246570263, 8.447598566308244, 8.43836281651058, 8.432997311827958, 8.42867383512545, 8.38191018342821, 8.344270353302612, 8.247670250896057, 8.198256320836967, 16.4, 16.78333333333333, 16.788888888888888, 17.220977011494252, 17.123448275862067, 17.325095785440613, 17.173891625615763, 17.078879310344824, 17.14789272030651, 16.943103448275856, 17.160397074190175, 17.261973180076627, 17.42387267904509, 17.322167487684727, 17.474022988505745, 17.666379310344826, 17.778160919540227, 17.668263090676884, 17.44010889292196, 17.581896551724135, 17.371647509578544, 17.430512016718914, 17.37266366816592, 17.321216475095785, 17.260367816091954, 17.193943412908933, 17.192933163048107, 17.20944170771757, 17.122909235037653, 17.127701149425288, 17.076269929551355, 17.094360632183907, 17.14705677464298, 17.236849222447603, 17.16151067323481, 17.06698595146871, 17.03904939422181]\n"
     ]
    }
   ],
   "source": [
    "print(mnthMeans)"
   ]
  },
  {
   "cell_type": "code",
   "execution_count": 44,
   "metadata": {},
   "outputs": [
    {
     "data": {
      "text/plain": [
       "407"
      ]
     },
     "execution_count": 44,
     "metadata": {},
     "output_type": "execute_result"
    }
   ],
   "source": [
    "len(mnthMeans)"
   ]
  },
  {
   "cell_type": "code",
   "execution_count": 46,
   "metadata": {},
   "outputs": [
    {
     "name": "stdout",
     "output_type": "stream",
     "text": [
      "1\n",
      "13\n",
      "25\n",
      "37\n",
      "49\n",
      "61\n",
      "73\n",
      "85\n",
      "97\n",
      "109\n",
      "121\n",
      "133\n",
      "145\n",
      "157\n",
      "169\n",
      "181\n",
      "193\n",
      "205\n",
      "217\n",
      "229\n",
      "241\n",
      "253\n",
      "265\n",
      "277\n",
      "289\n",
      "301\n",
      "313\n",
      "325\n",
      "337\n",
      "349\n",
      "361\n",
      "373\n",
      "385\n",
      "397\n",
      "409\n",
      "421\n",
      "433\n"
     ]
    }
   ],
   "source": [
    "for i in range(1,444,12):\n",
    "    print(i)"
   ]
  },
  {
   "cell_type": "code",
   "execution_count": 48,
   "metadata": {},
   "outputs": [],
   "source": [
    "i = 0\n",
    "mnthList = []\n",
    "mnthMeans = []\n",
    "for i in range(0,11):\n",
    "    monthRange = range(i, 444,12)\n",
    "    for j in monthRange:\n",
    "        mnthList.append(avgMonth[j])\n",
    "        mnthArray = np.asarray(mnthList)\n",
    "        mnthMean = mnthArray.mean()\n",
    "        mnthMeans.append(mnthMean)\n",
    "    mnthList = []"
   ]
  },
  {
   "cell_type": "code",
   "execution_count": 49,
   "metadata": {},
   "outputs": [
    {
     "name": "stdout",
     "output_type": "stream",
     "text": [
      "[30.967741935483872, 32.33870967741936, 30.817204301075275, 31.008064516129036, 31.535483870967745, 30.790322580645164, 30.57603686635945, 30.745967741935488, 30.10035842293907, 29.377419354838715, 29.36363636363637, 29.169354838709683, 29.014888337468992, 29.258064516129043, 29.098924731182805, 29.151209677419352, 29.17457305502846, 28.892473118279568, 28.791171477079796, 28.73709677419355, 28.78494623655914, 28.62316715542522, 28.69144460028051, 28.780913978494624, 28.734193548387097, 28.46153846153846, 28.397849462365592, 28.392857142857142, 28.457174638487206, 28.49784946236559, 28.56399583766909, 28.418346774193544, 28.355816226783965, 28.429791271347245, 28.428571428571427, 28.415770609318994, 28.312118570183085, 24.035714285714285, 25.42857142857143, 25.142857142857142, 24.529556650246306, 25.266502463054188, 25.263752052545158, 25.21076706544687, 25.455972906403943, 25.873563218390807, 25.571921182266014, 25.256941334527543, 25.002770935960594, 25.29376657824934, 25.5176812104152, 25.552216748768476, 25.588823891625616, 25.476456099681254, 25.273399014778324, 25.127430645579466, 24.976231527093596, 24.99096880131363, 24.93456112852665, 25.088027414863998, 25.182060755336618, 25.13477832512315, 25.150198938992045, 25.32188469257435, 25.347334623504576, 25.32550535077289, 25.437274220032844, 25.45888288574607, 25.363723830049263, 25.38408717719063, 25.476782092147207, 25.635608726249128, 25.54228243021347, 25.37125549194515, 19.193548387096776, 19.322580645161292, 19.0, 19.685483870967744, 19.2, 18.811827956989248, 18.691244239631338, 18.689516129032256, 18.702508960573475, 18.496774193548386, 18.431085043988272, 18.440860215053764, 18.607940446650126, 18.59907834101383, 18.518279569892474, 18.76008064516129, 18.656546489563567, 18.677419354838705, 18.750424448217313, 18.57903225806451, 18.686635944700456, 18.75219941348973, 18.72510518934081, 18.58467741935484, 18.668387096774197, 18.68362282878412, 18.572281959378735, 18.59562211981567, 18.58843159065629, 18.54623655913979, 18.53902185223726, 18.328629032258064, 18.405669599217987, 18.499051233396585, 18.499539170506914, 18.380824372759857, 18.358326068003485, 8.233333333333333, 10.783333333333333, 11.78888888888889, 11.866666666666667, 11.206666666666667, 10.927777777777777, 10.828571428571427, 10.845833333333333, 10.892592592592592, 10.86, 10.727272727272727, 10.755555555555555, 10.833333333333334, 10.752380952380951, 10.851111111111111, 10.904166666666665, 11.041176470588233, 11.027777777777777, 11.00175438596491, 10.984999999999998, 10.944444444444443, 10.893939393939393, 10.918840579710144, 10.890277777777778, 10.86, 10.787179487179486, 10.846913580246913, 10.835714285714285, 10.850574712643677, 10.781111111111109, 10.760215053763439, 10.727083333333333, 10.748484848484848, 10.75, 10.71904761904762, 10.702777777777778, 10.62972972972973, 5.032258064516129, 4.145161290322581, 4.67741935483871, 4.82258064516129, 4.535483870967742, 4.413978494623656, 4.276497695852535, 4.258064516129032, 4.362007168458781, 4.461290322580645, 4.375366568914956, 4.389784946236559, 4.32258064516129, 4.396313364055299, 4.458064516129031, 4.516129032258064, 4.595825426944971, 4.523297491039426, 4.492359932088285, 4.4387096774193555, 4.3824884792626735, 4.454545454545455, 4.47124824684432, 4.426075268817204, 4.481290322580645, 4.487593052109181, 4.444444444444445, 4.483870967741935, 4.459399332591769, 4.46236559139785, 4.485952133194589, 4.432459677419355, 4.432062561094819, 4.419354838709677, 4.392626728110598, 4.405017921146953, 4.417611159546643, 0.7333333333333333, 1.2, 1.211111111111111, 1.1083333333333334, 1.1666666666666667, 1.1, 1.0095238095238097, 1.0458333333333334, 1.0185185185185186, 1.0033333333333334, 0.9909090909090911, 1.013888888888889, 1.0512820512820513, 1.023809523809524, 1.0244444444444445, 1.0125, 1.011764705882353, 1.0407407407407407, 1.0385964912280703, 1.0366666666666666, 1.0365079365079366, 1.0454545454545456, 1.0579710144927537, 1.0583333333333333, 1.0493333333333332, 1.0333333333333332, 1.0209876543209875, 1.0107142857142857, 1.018390804597701, 1.0133333333333332, 1.0161290322580645, 1.0177083333333332, 1.01010101010101, 0.9999999999999998, 0.9876190476190475, 0.974074074074074, 0.9702702702702702, 0.0967741935483871, 0.12903225806451613, 0.12903225806451613, 0.12096774193548387, 0.0967741935483871, 0.10215053763440861, 0.10138248847926268, 0.10080645161290322, 0.08960573476702509, 0.09032258064516129, 0.08211143695014662, 0.09946236559139786, 0.09181141439205956, 0.08525345622119816, 0.08602150537634408, 0.08467741935483872, 0.08538899430740038, 0.08064516129032258, 0.07809847198641766, 0.08064516129032258, 0.08294930875576036, 0.07917888563049852, 0.07573632538569423, 0.07661290322580645, 0.07354838709677419, 0.0707196029776675, 0.07048984468339306, 0.06797235023041474, 0.07452725250278086, 0.07419354838709677, 0.07180020811654526, 0.06955645161290322, 0.07038123167155425, 0.07115749525616698, 0.07004608294930874, 0.06810035842293906, 0.06625980819529205, 0.12903225806451613, 0.3064516129032258, 0.23655913978494625, 0.20161290322580647, 0.1935483870967742, 0.25806451612903225, 0.2764976958525346, 0.2661290322580645, 0.2652329749103942, 0.24838709677419352, 0.2258064516129032, 0.24731182795698922, 0.24069478908188582, 0.25115207373271886, 0.2365591397849462, 0.2217741935483871, 0.22201138519924096, 0.2132616487455197, 0.2054329371816638, 0.2032258064516129, 0.1935483870967742, 0.18621700879765396, 0.17952314165497896, 0.1908602150537634, 0.18322580645161288, 0.18114143920595532, 0.18040621266427714, 0.18087557603686633, 0.18353726362625136, 0.18279569892473113, 0.17689906347554626, 0.17237903225806453, 0.1691104594330401, 0.16603415559772297, 0.16497695852534563, 0.16039426523297493, 0.16129032258064516, 2.466666666666667, 2.533333333333333, 2.5, 2.7, 2.7333333333333334, 2.7000000000000006, 2.5571428571428574, 2.508333333333333, 2.518518518518518, 2.4666666666666663, 2.509090909090909, 2.505555555555555, 2.5487179487179485, 2.5047619047619043, 2.517777777777778, 2.5166666666666666, 2.480392156862745, 2.4037037037037035, 2.384210526315789, 2.4066666666666667, 2.4047619047619047, 2.356060606060606, 2.3318840579710143, 2.2944444444444443, 2.2439999999999998, 2.2551282051282047, 2.2345679012345676, 2.214285714285714, 2.1954022988505746, 2.178888888888889, 2.168817204301075, 2.16875, 2.167676767676768, 2.1607843137254905, 2.128571428571429, 2.0879629629629637, 2.077477477477478, 10.32258064516129, 9.435483870967742, 8.838709677419354, 8.33736559139785, 8.153763440860216, 8.165770609318997, 8.496927803379418, 8.751478494623655, 8.675149342891277, 8.597956989247312, 8.526001955034213, 8.562724014336917, 8.63358147229115, 8.615975422427036, 8.523297491039425, 8.521841397849462, 8.559456040480708, 8.49611708482676, 8.492076966610071, 8.445806451612901, 8.43379416282642, 8.499120234604105, 8.477419354838707, 8.453360215053763, 8.432645161290322, 8.481761786600497, 8.388649940262844, 8.409293394777267, 8.483055246570263, 8.447598566308244, 8.43836281651058, 8.432997311827958, 8.42867383512545, 8.38191018342821, 8.344270353302612, 8.247670250896057, 8.198256320836967, 16.4, 16.78333333333333, 16.788888888888888, 17.220977011494252, 17.123448275862067, 17.325095785440613, 17.173891625615763, 17.078879310344824, 17.14789272030651, 16.943103448275856, 17.160397074190175, 17.261973180076627, 17.42387267904509, 17.322167487684727, 17.474022988505745, 17.666379310344826, 17.778160919540227, 17.668263090676884, 17.44010889292196, 17.581896551724135, 17.371647509578544, 17.430512016718914, 17.37266366816592, 17.321216475095785, 17.260367816091954, 17.193943412908933, 17.192933163048107, 17.20944170771757, 17.122909235037653, 17.127701149425288, 17.076269929551355, 17.094360632183907, 17.14705677464298, 17.236849222447603, 17.16151067323481, 17.06698595146871, 17.03904939422181]\n"
     ]
    }
   ],
   "source": [
    "print(mnthMeans)"
   ]
  },
  {
   "cell_type": "code",
   "execution_count": null,
   "metadata": {},
   "outputs": [],
   "source": []
  }
 ],
 "metadata": {
  "kernelspec": {
   "display_name": "Python 3",
   "language": "python",
   "name": "python3"
  },
  "language_info": {
   "codemirror_mode": {
    "name": "ipython",
    "version": 3
   },
   "file_extension": ".py",
   "mimetype": "text/x-python",
   "name": "python",
   "nbconvert_exporter": "python",
   "pygments_lexer": "ipython3",
   "version": "3.6.4"
  }
 },
 "nbformat": 4,
 "nbformat_minor": 2
}
